{
 "cells": [
  {
   "cell_type": "markdown",
   "id": "7a829ce6-086c-455e-a3a2-386151d71d65",
   "metadata": {},
   "source": [
    "# Chatting with Own PDF News article"
   ]
  },
  {
   "cell_type": "markdown",
   "id": "b5710959-4f1c-46d6-9f8c-d9857f9b7d1d",
   "metadata": {},
   "source": [
    "## Import OS Library and setup OpenAI Key"
   ]
  },
  {
   "cell_type": "code",
   "execution_count": 5,
   "id": "362eaafb-e861-4d21-9fef-4f7b0dd47608",
   "metadata": {},
   "outputs": [],
   "source": [
    "import os\n",
    "os.environ[\"OPENAI_API_KEY\"]=\"YOUR KEY HERE\""
   ]
  },
  {
   "cell_type": "markdown",
   "id": "eabbf8f7-c10f-4aa4-883c-2d65d015721c",
   "metadata": {},
   "source": [
    "## Importing Primary Libraries"
   ]
  },
  {
   "cell_type": "code",
   "execution_count": 6,
   "id": "08fea50c-3262-4fbf-b82c-4d2441cf4992",
   "metadata": {},
   "outputs": [],
   "source": [
    "from langchain.llms import OpenAI\n",
    "from langchain.schema.messages import SystemMessage,HumanMessage,AIMessage\n",
    "from PyPDF2 import PdfReader"
   ]
  },
  {
   "cell_type": "markdown",
   "id": "859c01ed-f3d8-4c04-96a9-803db40fd964",
   "metadata": {},
   "source": [
    "## Setup LLM"
   ]
  },
  {
   "cell_type": "code",
   "execution_count": 7,
   "id": "64a89cd6-2a91-43e7-938e-721ff23b5506",
   "metadata": {},
   "outputs": [
    {
     "name": "stderr",
     "output_type": "stream",
     "text": [
      "/opt/conda/lib/python3.10/site-packages/langchain_core/_api/deprecation.py:115: LangChainDeprecationWarning: The class `OpenAI` was deprecated in LangChain 0.1.0 and will be removed in 0.2.0. Use langchain_openai.OpenAI instead.\n",
      "  warn_deprecated(\n"
     ]
    }
   ],
   "source": [
    "llm=OpenAI(temperature=0.7)"
   ]
  },
  {
   "cell_type": "code",
   "execution_count": 8,
   "id": "b08283a4-0a24-4fd9-b546-cb152d07ee0b",
   "metadata": {},
   "outputs": [
    {
     "name": "stderr",
     "output_type": "stream",
     "text": [
      "/opt/conda/lib/python3.10/site-packages/langchain_core/_api/deprecation.py:115: LangChainDeprecationWarning: The function `__call__` was deprecated in LangChain 0.1.7 and will be removed in 0.2.0. Use invoke instead.\n",
      "  warn_deprecated(\n"
     ]
    },
    {
     "data": {
      "text/plain": [
       "'\\n\\nIndia won the Cricket World Cup in 2011.'"
      ]
     },
     "execution_count": 8,
     "metadata": {},
     "output_type": "execute_result"
    }
   ],
   "source": [
    "llm(\"who won cricket cup in 2011\")"
   ]
  },
  {
   "cell_type": "markdown",
   "id": "8316cb3f-f1fe-4173-898b-fa6ffb204810",
   "metadata": {},
   "source": [
    "## Read the PDF"
   ]
  },
  {
   "cell_type": "code",
   "execution_count": 9,
   "id": "fc8dc75f-e444-4fe7-8b26-bf6663b6da83",
   "metadata": {},
   "outputs": [],
   "source": [
    "pdf=PdfReader(\"The Hindu ePaper _ Daily News and Current Affairs.pdf\")"
   ]
  },
  {
   "cell_type": "code",
   "execution_count": 10,
   "id": "0e801f11-fce7-4f53-a4d2-010c31085d64",
   "metadata": {},
   "outputs": [
    {
     "data": {
      "text/plain": [
       "<PyPDF2._reader.PdfReader at 0x7f8b548d4070>"
      ]
     },
     "execution_count": 10,
     "metadata": {},
     "output_type": "execute_result"
    }
   ],
   "source": [
    "pdf"
   ]
  },
  {
   "cell_type": "markdown",
   "id": "a6d9e323-9fd6-45bb-8fd4-87546613c443",
   "metadata": {},
   "source": [
    "## Read data in PDF"
   ]
  },
  {
   "cell_type": "code",
   "execution_count": 11,
   "id": "a5eefbdf-fa6d-454c-8b78-2c5476065f12",
   "metadata": {},
   "outputs": [],
   "source": [
    "text=\"\"\n",
    "for i,v in enumerate(pdf.pages):\n",
    "    text=text+v.extract_text()"
   ]
  },
  {
   "cell_type": "code",
   "execution_count": 12,
   "id": "7f1867eb-75e9-48e4-84a3-e67f1b395bd3",
   "metadata": {},
   "outputs": [
    {
     "data": {
      "text/plain": [
       "'The need to exam ine the exam ination system\\nReforming the examination system to ensure its credibility is a key way\\nto improve educational standards\\nEvery examination season, the media reports scandals that engulf some universities\\nor even school boards. The credibility of the examination system is linked to the\\nstandard of the certi\\x00cates that the examination/school boards issue. The lack of\\ncredibility of the examination system in educational institutions a\\x00ects educational\\nstandards because learning is conditioned by the proposed examination system.\\nTeaching and learning should prepare a student to face any type of examination. On\\nthe contrary, if the examination pattern is known, say by testing mostly memory,\\nthen teaching will ensure that students only prepare for rote memory. This is theR. Srinivasan\\nis Member, State Planning Commission, Government of\\nTamil Nadu\\ngeneral pattern. Further, in\\x00ation of marks and achieving a very high pass\\npercentage are the key objectives of the education administration. Consequently, the\\ntalent search cost for employers rises. A credible examination system is one of the\\nkey ways to improve the standard of education.\\nDecentralised system\\nWith more than 1,100 universities, 50,000 a\\x00liated colleges including 700\\nautonomous colleges and a total enrolment of 40.15 million students, India has\\nnumerous higher education examination systems with diversi\\x00ed modes of\\nassessment. There are also 60 school boards for secondary and higher secondary\\nlevels of school education, certifying more than 15 million students every year.\\nSecrecy and standardisation are considered to be the hallmarks of good examination\\nboards. Secrecy without proper checks and balances and audits leads to scandals.\\nStandardisation through uniformity in examination kills experimentation in\\nassessment and curriculum. Rather, the credibility of assessment and standard of\\neducation can be ensured only through transparency in teaching and assessment.\\nIn educational institutions, the summative examination is to test and certify a\\nstudent’s learning. Its validity over time and its comparability across institutions are\\nmeaningless today. This inconsistency of the examination system is cause for\\nconcern.\\nAn examination is supposed to have tested certain scholastic abilities, from memory\\nto application and creation of knowledge and critical thinking. Often, there are\\ncomplaints that the examination boards test only memory. So, teachers in turn coach\\nstudents to memorise answers and score marks rather than teach them higher order\\nthinking.\\nThere are many instances where we come across question papers that have grave\\n\\x00aws such as language errors, errors in conceptualisation, irrelevant questions and\\nquestions that do not test higher order learning. The evaluation of answer scripts is\\nindiscriminate, and the grades do not re\\x00ect the di\\x00erences in students’ learning\\nachievements. The employability of a graduate depends on higher order learning,\\nwhile examination boards do not certify students on those skills.. Our institutional\\nexaminations fail in this.\\nEmployers disregard institutional certi\\x00cation and have their own rigorous\\nassessment of a candidate’s academic achievements and suitability for employment.\\nThis in turn has created a coaching market for competitive examinations and skilling.\\nAssessment quality\\nThe academic side of courses should lay the foundation for calibrating a good\\nassessment system. All regulatory institutions in India have an emphasis on\\noutcome-based learning in institutions. There are elaborate advisories on curriculum\\ndesign, pedagogy, and examination systems from all the regulatory boards. In the\\nabsence of regular and e\\x00ective oversight, these advisories are hardly followed by\\neducational institutions. The syllabi of every graduate/diploma programme will tickmost of the boxes such as course objectives, expected outcomes, and even\\nspecifying the \\x00ner details of skills to be imparted. But a careful reading of the syllabi\\nwill expose the inconsistency and inadequacies in them. Actual classroom teaching\\nwill not meet the requirements of imparting higher order thinking and skills.\\nTherefore, a transparent oversight model and greater involvement of professional\\nbodies in curriculum design and teaching should help in establishing a proper\\nassessment system. We cannot wait for curriculum change to get over to e\\x00ect\\nexamination reforms. Rather, both processes should happen simultaneously.\\nAnother important problem of assessment is the secrecy involved in the whole\\nexamination process, from question paper setting to evaluation of answer scripts\\nand mark sheet preparation. Bad apples among teachers have the cover of\\ncon\\x00dentiality for their mediocre work. Con\\x00dentiality is also a cause for scandals in\\nexaminations. A larger examination system is designed to ensure a uniform standard\\nof assessments. But the problem with larger systems is that they are prone to\\n‘malfunctioning’ and facilitate malpractices that make a mockery of uniformity and\\ncon\\x00dentiality.\\nRegulatory bodies encourage colleges to go in for academic autonomy and certify\\ntheir students based on their own examinations, but the degrees/diplomas that are\\nconferred are on a par with all others by the a\\x00liating university. Autonomy\\nregulations give little oversight authority for the a\\x00liating university on the\\nautonomous college examination system. The higher education regulator truly\\nbelieves in decentralisation through autonomous institutions without oversight.\\nStandardisation of examinations is a farce.\\nIn a decentralised education system, con\\x00dentiality and standardisation of the\\nexamination system matter little, but ensuring a minimum standard is essential.\\nTransparency and proper oversight take lead roles in the examination systems to\\nensure this.\\nSteps to take\\nIf minimum standards of learning outcomes are speci\\x00ed, there are numerous ways\\nto achieve them. Academics in every branch of knowledge write on curriculum\\ndesign, pedagogy and assessment systems. Research in teaching of subjects in both\\nschools and colleges is vibrant. There are subject speci\\x00c and skill speci\\x00c\\nassessment processes. Continuous assessment through the course leaves the entire\\nassessment process in the hands of the teacher. Though this system is often riddled\\nwith subjective and lenient assessment, proper documentation and real time\\noversight with participative process of students’ assessment of teachers should make\\nit better. Summative assessment and evaluation should also be made transparent,\\nwith checks and balances.\\nThe use of technology in assessment enhances credibility. The setting of question\\npapers can be standardised in terms of academic content, and evaluation can be\\nstandardised with checks and balances. The market provides a variety of softwaresolutions to every aspect of assessment, for both centralised and distributed systems\\nof assessments.\\nAll sorts of negligence, fraud and academic inadequacies and other quality issues\\nshould be codi\\x00ed, and corrective measures/punishment also should be linked to\\nsuch codes. Transparency in accessing the evaluation process by students and\\nmeasures to address their grievances should be in place.\\nAn external audit of assessment systems in universities and school boards is\\nessential. Such audit reports should cover all the processes based on established\\nprinciples and benchmarks set by educationists to ensure reliability and consistency\\nof examination systems. Grading examination boards in terms of transparency,\\nreliability and consistency should be a part of audit reports. Such audit reports\\nshould be released soon after the completion of every major cycle of examinations,\\nsay as half-yearly reports.\\nWe expect university degrees and school board certi\\x00cates to re\\x00ect the learning\\nachievements of students, and examination boards should assess students\\ncomprehensively, in a challenging way. Grades should distinguish students by their\\nacademic attainments. While the con\\x00dentiality of the process and consistency in\\ngrading with uniform standards are desired features of examination systems, the\\nreal features are transparency in process and credibility by adhering to at least\\nminimum acceptable standards.'"
      ]
     },
     "execution_count": 12,
     "metadata": {},
     "output_type": "execute_result"
    }
   ],
   "source": [
    "text"
   ]
  },
  {
   "cell_type": "markdown",
   "id": "a941d3c5-72f2-4cc6-95d3-21a74810451c",
   "metadata": {},
   "source": [
    "## Create a message list"
   ]
  },
  {
   "cell_type": "code",
   "execution_count": 13,
   "id": "80c15702-55d5-42fe-8ef9-3d309145f526",
   "metadata": {},
   "outputs": [],
   "source": [
    "messages=[\n",
    " \n",
    "    SystemMessage(content=\"You're a Professional PDF content explainer\")\n",
    "    ]"
   ]
  },
  {
   "cell_type": "markdown",
   "id": "cd2cd81d-74d4-4454-bb2a-f37275875f3e",
   "metadata": {},
   "source": [
    "### Add Human Message"
   ]
  },
  {
   "cell_type": "code",
   "execution_count": 14,
   "id": "b61a3808-078d-4ece-a578-1cd2566ceff9",
   "metadata": {},
   "outputs": [],
   "source": [
    "hm=\"Based on the below article,summarize it in 200 words \\n\"+text"
   ]
  },
  {
   "cell_type": "code",
   "execution_count": 15,
   "id": "320234ef-902e-4109-8aab-ffc52c25ac27",
   "metadata": {},
   "outputs": [
    {
     "data": {
      "text/plain": [
       "'Based on the below article,summarize it in 200 words \\nThe need to exam ine the exam ination system\\nReforming the examination system to ensure its credibility is a key way\\nto improve educational standards\\nEvery examination season, the media reports scandals that engulf some universities\\nor even school boards. The credibility of the examination system is linked to the\\nstandard of the certi\\x00cates that the examination/school boards issue. The lack of\\ncredibility of the examination system in educational institutions a\\x00ects educational\\nstandards because learning is conditioned by the proposed examination system.\\nTeaching and learning should prepare a student to face any type of examination. On\\nthe contrary, if the examination pattern is known, say by testing mostly memory,\\nthen teaching will ensure that students only prepare for rote memory. This is theR. Srinivasan\\nis Member, State Planning Commission, Government of\\nTamil Nadu\\ngeneral pattern. Further, in\\x00ation of marks and achieving a very high pass\\npercentage are the key objectives of the education administration. Consequently, the\\ntalent search cost for employers rises. A credible examination system is one of the\\nkey ways to improve the standard of education.\\nDecentralised system\\nWith more than 1,100 universities, 50,000 a\\x00liated colleges including 700\\nautonomous colleges and a total enrolment of 40.15 million students, India has\\nnumerous higher education examination systems with diversi\\x00ed modes of\\nassessment. There are also 60 school boards for secondary and higher secondary\\nlevels of school education, certifying more than 15 million students every year.\\nSecrecy and standardisation are considered to be the hallmarks of good examination\\nboards. Secrecy without proper checks and balances and audits leads to scandals.\\nStandardisation through uniformity in examination kills experimentation in\\nassessment and curriculum. Rather, the credibility of assessment and standard of\\neducation can be ensured only through transparency in teaching and assessment.\\nIn educational institutions, the summative examination is to test and certify a\\nstudent’s learning. Its validity over time and its comparability across institutions are\\nmeaningless today. This inconsistency of the examination system is cause for\\nconcern.\\nAn examination is supposed to have tested certain scholastic abilities, from memory\\nto application and creation of knowledge and critical thinking. Often, there are\\ncomplaints that the examination boards test only memory. So, teachers in turn coach\\nstudents to memorise answers and score marks rather than teach them higher order\\nthinking.\\nThere are many instances where we come across question papers that have grave\\n\\x00aws such as language errors, errors in conceptualisation, irrelevant questions and\\nquestions that do not test higher order learning. The evaluation of answer scripts is\\nindiscriminate, and the grades do not re\\x00ect the di\\x00erences in students’ learning\\nachievements. The employability of a graduate depends on higher order learning,\\nwhile examination boards do not certify students on those skills.. Our institutional\\nexaminations fail in this.\\nEmployers disregard institutional certi\\x00cation and have their own rigorous\\nassessment of a candidate’s academic achievements and suitability for employment.\\nThis in turn has created a coaching market for competitive examinations and skilling.\\nAssessment quality\\nThe academic side of courses should lay the foundation for calibrating a good\\nassessment system. All regulatory institutions in India have an emphasis on\\noutcome-based learning in institutions. There are elaborate advisories on curriculum\\ndesign, pedagogy, and examination systems from all the regulatory boards. In the\\nabsence of regular and e\\x00ective oversight, these advisories are hardly followed by\\neducational institutions. The syllabi of every graduate/diploma programme will tickmost of the boxes such as course objectives, expected outcomes, and even\\nspecifying the \\x00ner details of skills to be imparted. But a careful reading of the syllabi\\nwill expose the inconsistency and inadequacies in them. Actual classroom teaching\\nwill not meet the requirements of imparting higher order thinking and skills.\\nTherefore, a transparent oversight model and greater involvement of professional\\nbodies in curriculum design and teaching should help in establishing a proper\\nassessment system. We cannot wait for curriculum change to get over to e\\x00ect\\nexamination reforms. Rather, both processes should happen simultaneously.\\nAnother important problem of assessment is the secrecy involved in the whole\\nexamination process, from question paper setting to evaluation of answer scripts\\nand mark sheet preparation. Bad apples among teachers have the cover of\\ncon\\x00dentiality for their mediocre work. Con\\x00dentiality is also a cause for scandals in\\nexaminations. A larger examination system is designed to ensure a uniform standard\\nof assessments. But the problem with larger systems is that they are prone to\\n‘malfunctioning’ and facilitate malpractices that make a mockery of uniformity and\\ncon\\x00dentiality.\\nRegulatory bodies encourage colleges to go in for academic autonomy and certify\\ntheir students based on their own examinations, but the degrees/diplomas that are\\nconferred are on a par with all others by the a\\x00liating university. Autonomy\\nregulations give little oversight authority for the a\\x00liating university on the\\nautonomous college examination system. The higher education regulator truly\\nbelieves in decentralisation through autonomous institutions without oversight.\\nStandardisation of examinations is a farce.\\nIn a decentralised education system, con\\x00dentiality and standardisation of the\\nexamination system matter little, but ensuring a minimum standard is essential.\\nTransparency and proper oversight take lead roles in the examination systems to\\nensure this.\\nSteps to take\\nIf minimum standards of learning outcomes are speci\\x00ed, there are numerous ways\\nto achieve them. Academics in every branch of knowledge write on curriculum\\ndesign, pedagogy and assessment systems. Research in teaching of subjects in both\\nschools and colleges is vibrant. There are subject speci\\x00c and skill speci\\x00c\\nassessment processes. Continuous assessment through the course leaves the entire\\nassessment process in the hands of the teacher. Though this system is often riddled\\nwith subjective and lenient assessment, proper documentation and real time\\noversight with participative process of students’ assessment of teachers should make\\nit better. Summative assessment and evaluation should also be made transparent,\\nwith checks and balances.\\nThe use of technology in assessment enhances credibility. The setting of question\\npapers can be standardised in terms of academic content, and evaluation can be\\nstandardised with checks and balances. The market provides a variety of softwaresolutions to every aspect of assessment, for both centralised and distributed systems\\nof assessments.\\nAll sorts of negligence, fraud and academic inadequacies and other quality issues\\nshould be codi\\x00ed, and corrective measures/punishment also should be linked to\\nsuch codes. Transparency in accessing the evaluation process by students and\\nmeasures to address their grievances should be in place.\\nAn external audit of assessment systems in universities and school boards is\\nessential. Such audit reports should cover all the processes based on established\\nprinciples and benchmarks set by educationists to ensure reliability and consistency\\nof examination systems. Grading examination boards in terms of transparency,\\nreliability and consistency should be a part of audit reports. Such audit reports\\nshould be released soon after the completion of every major cycle of examinations,\\nsay as half-yearly reports.\\nWe expect university degrees and school board certi\\x00cates to re\\x00ect the learning\\nachievements of students, and examination boards should assess students\\ncomprehensively, in a challenging way. Grades should distinguish students by their\\nacademic attainments. While the con\\x00dentiality of the process and consistency in\\ngrading with uniform standards are desired features of examination systems, the\\nreal features are transparency in process and credibility by adhering to at least\\nminimum acceptable standards.'"
      ]
     },
     "execution_count": 15,
     "metadata": {},
     "output_type": "execute_result"
    }
   ],
   "source": [
    "hm"
   ]
  },
  {
   "cell_type": "code",
   "execution_count": 16,
   "id": "7f93c566-3bac-4904-8bc1-1e3325613ae9",
   "metadata": {},
   "outputs": [],
   "source": [
    "messages.append(HumanMessage(content=hm))"
   ]
  },
  {
   "cell_type": "code",
   "execution_count": 17,
   "id": "ab86a9c2-0fe9-4e1a-8de3-0d3613cd0c5e",
   "metadata": {},
   "outputs": [
    {
     "data": {
      "text/plain": [
       "[SystemMessage(content=\"You're a Professional PDF content explainer\"),\n",
       " HumanMessage(content='Based on the below article,summarize it in 200 words \\nThe need to exam ine the exam ination system\\nReforming the examination system to ensure its credibility is a key way\\nto improve educational standards\\nEvery examination season, the media reports scandals that engulf some universities\\nor even school boards. The credibility of the examination system is linked to the\\nstandard of the certi\\x00cates that the examination/school boards issue. The lack of\\ncredibility of the examination system in educational institutions a\\x00ects educational\\nstandards because learning is conditioned by the proposed examination system.\\nTeaching and learning should prepare a student to face any type of examination. On\\nthe contrary, if the examination pattern is known, say by testing mostly memory,\\nthen teaching will ensure that students only prepare for rote memory. This is theR. Srinivasan\\nis Member, State Planning Commission, Government of\\nTamil Nadu\\ngeneral pattern. Further, in\\x00ation of marks and achieving a very high pass\\npercentage are the key objectives of the education administration. Consequently, the\\ntalent search cost for employers rises. A credible examination system is one of the\\nkey ways to improve the standard of education.\\nDecentralised system\\nWith more than 1,100 universities, 50,000 a\\x00liated colleges including 700\\nautonomous colleges and a total enrolment of 40.15 million students, India has\\nnumerous higher education examination systems with diversi\\x00ed modes of\\nassessment. There are also 60 school boards for secondary and higher secondary\\nlevels of school education, certifying more than 15 million students every year.\\nSecrecy and standardisation are considered to be the hallmarks of good examination\\nboards. Secrecy without proper checks and balances and audits leads to scandals.\\nStandardisation through uniformity in examination kills experimentation in\\nassessment and curriculum. Rather, the credibility of assessment and standard of\\neducation can be ensured only through transparency in teaching and assessment.\\nIn educational institutions, the summative examination is to test and certify a\\nstudent’s learning. Its validity over time and its comparability across institutions are\\nmeaningless today. This inconsistency of the examination system is cause for\\nconcern.\\nAn examination is supposed to have tested certain scholastic abilities, from memory\\nto application and creation of knowledge and critical thinking. Often, there are\\ncomplaints that the examination boards test only memory. So, teachers in turn coach\\nstudents to memorise answers and score marks rather than teach them higher order\\nthinking.\\nThere are many instances where we come across question papers that have grave\\n\\x00aws such as language errors, errors in conceptualisation, irrelevant questions and\\nquestions that do not test higher order learning. The evaluation of answer scripts is\\nindiscriminate, and the grades do not re\\x00ect the di\\x00erences in students’ learning\\nachievements. The employability of a graduate depends on higher order learning,\\nwhile examination boards do not certify students on those skills.. Our institutional\\nexaminations fail in this.\\nEmployers disregard institutional certi\\x00cation and have their own rigorous\\nassessment of a candidate’s academic achievements and suitability for employment.\\nThis in turn has created a coaching market for competitive examinations and skilling.\\nAssessment quality\\nThe academic side of courses should lay the foundation for calibrating a good\\nassessment system. All regulatory institutions in India have an emphasis on\\noutcome-based learning in institutions. There are elaborate advisories on curriculum\\ndesign, pedagogy, and examination systems from all the regulatory boards. In the\\nabsence of regular and e\\x00ective oversight, these advisories are hardly followed by\\neducational institutions. The syllabi of every graduate/diploma programme will tickmost of the boxes such as course objectives, expected outcomes, and even\\nspecifying the \\x00ner details of skills to be imparted. But a careful reading of the syllabi\\nwill expose the inconsistency and inadequacies in them. Actual classroom teaching\\nwill not meet the requirements of imparting higher order thinking and skills.\\nTherefore, a transparent oversight model and greater involvement of professional\\nbodies in curriculum design and teaching should help in establishing a proper\\nassessment system. We cannot wait for curriculum change to get over to e\\x00ect\\nexamination reforms. Rather, both processes should happen simultaneously.\\nAnother important problem of assessment is the secrecy involved in the whole\\nexamination process, from question paper setting to evaluation of answer scripts\\nand mark sheet preparation. Bad apples among teachers have the cover of\\ncon\\x00dentiality for their mediocre work. Con\\x00dentiality is also a cause for scandals in\\nexaminations. A larger examination system is designed to ensure a uniform standard\\nof assessments. But the problem with larger systems is that they are prone to\\n‘malfunctioning’ and facilitate malpractices that make a mockery of uniformity and\\ncon\\x00dentiality.\\nRegulatory bodies encourage colleges to go in for academic autonomy and certify\\ntheir students based on their own examinations, but the degrees/diplomas that are\\nconferred are on a par with all others by the a\\x00liating university. Autonomy\\nregulations give little oversight authority for the a\\x00liating university on the\\nautonomous college examination system. The higher education regulator truly\\nbelieves in decentralisation through autonomous institutions without oversight.\\nStandardisation of examinations is a farce.\\nIn a decentralised education system, con\\x00dentiality and standardisation of the\\nexamination system matter little, but ensuring a minimum standard is essential.\\nTransparency and proper oversight take lead roles in the examination systems to\\nensure this.\\nSteps to take\\nIf minimum standards of learning outcomes are speci\\x00ed, there are numerous ways\\nto achieve them. Academics in every branch of knowledge write on curriculum\\ndesign, pedagogy and assessment systems. Research in teaching of subjects in both\\nschools and colleges is vibrant. There are subject speci\\x00c and skill speci\\x00c\\nassessment processes. Continuous assessment through the course leaves the entire\\nassessment process in the hands of the teacher. Though this system is often riddled\\nwith subjective and lenient assessment, proper documentation and real time\\noversight with participative process of students’ assessment of teachers should make\\nit better. Summative assessment and evaluation should also be made transparent,\\nwith checks and balances.\\nThe use of technology in assessment enhances credibility. The setting of question\\npapers can be standardised in terms of academic content, and evaluation can be\\nstandardised with checks and balances. The market provides a variety of softwaresolutions to every aspect of assessment, for both centralised and distributed systems\\nof assessments.\\nAll sorts of negligence, fraud and academic inadequacies and other quality issues\\nshould be codi\\x00ed, and corrective measures/punishment also should be linked to\\nsuch codes. Transparency in accessing the evaluation process by students and\\nmeasures to address their grievances should be in place.\\nAn external audit of assessment systems in universities and school boards is\\nessential. Such audit reports should cover all the processes based on established\\nprinciples and benchmarks set by educationists to ensure reliability and consistency\\nof examination systems. Grading examination boards in terms of transparency,\\nreliability and consistency should be a part of audit reports. Such audit reports\\nshould be released soon after the completion of every major cycle of examinations,\\nsay as half-yearly reports.\\nWe expect university degrees and school board certi\\x00cates to re\\x00ect the learning\\nachievements of students, and examination boards should assess students\\ncomprehensively, in a challenging way. Grades should distinguish students by their\\nacademic attainments. While the con\\x00dentiality of the process and consistency in\\ngrading with uniform standards are desired features of examination systems, the\\nreal features are transparency in process and credibility by adhering to at least\\nminimum acceptable standards.')]"
      ]
     },
     "execution_count": 17,
     "metadata": {},
     "output_type": "execute_result"
    }
   ],
   "source": [
    "messages"
   ]
  },
  {
   "cell_type": "markdown",
   "id": "f59a6246-dc6c-433e-b105-32fd2f24eacb",
   "metadata": {},
   "source": [
    "## Import Chat Model and set it up"
   ]
  },
  {
   "cell_type": "code",
   "execution_count": 18,
   "id": "f38835d4-e7ed-4ecb-a9d7-df19c7c93312",
   "metadata": {},
   "outputs": [],
   "source": [
    "from langchain.chat_models import ChatOpenAI"
   ]
  },
  {
   "cell_type": "code",
   "execution_count": 19,
   "id": "e5dfec74-d7e4-4b5d-bc63-cdaea215bdb7",
   "metadata": {},
   "outputs": [
    {
     "name": "stderr",
     "output_type": "stream",
     "text": [
      "/opt/conda/lib/python3.10/site-packages/langchain_core/_api/deprecation.py:115: LangChainDeprecationWarning: The class `ChatOpenAI` was deprecated in LangChain 0.1.0 and will be removed in 0.2.0. Use langchain_openai.ChatOpenAI instead.\n",
      "  warn_deprecated(\n"
     ]
    }
   ],
   "source": [
    "chat=ChatOpenAI()"
   ]
  },
  {
   "cell_type": "markdown",
   "id": "9482114c-828c-4eae-b313-54e42ff28b54",
   "metadata": {},
   "source": [
    "## Pass our messages to model"
   ]
  },
  {
   "cell_type": "code",
   "execution_count": 20,
   "id": "0cfccb6f-b384-4842-bfcc-564b39ac38e3",
   "metadata": {},
   "outputs": [
    {
     "name": "stderr",
     "output_type": "stream",
     "text": [
      "/opt/conda/lib/python3.10/site-packages/langchain_core/_api/deprecation.py:115: LangChainDeprecationWarning: The function `__call__` was deprecated in LangChain 0.1.7 and will be removed in 0.2.0. Use invoke instead.\n",
      "  warn_deprecated(\n"
     ]
    }
   ],
   "source": [
    "op=chat(messages)"
   ]
  },
  {
   "cell_type": "code",
   "execution_count": 21,
   "id": "51b92fab-5163-4e5f-8cba-018713d22d3c",
   "metadata": {},
   "outputs": [
    {
     "name": "stdout",
     "output_type": "stream",
     "text": [
      "The article discusses the importance of reforming the examination system in order to improve educational standards. The credibility of the examination system is directly linked to the quality of the certificates issued by examination boards. The lack of credibility affects educational standards as learning is often tailored to fit the examination pattern. This leads to a focus on rote memorization rather than higher-order thinking skills.\n",
      "\n",
      "India has a decentralized examination system with numerous universities, colleges, and school boards. However, secrecy and standardization are considered to be the hallmarks of good examination boards. Secrecy without proper checks and balances can lead to scandals, while standardization can hinder experimentation in assessment and curriculum. Transparency in teaching and assessment is necessary to ensure the credibility of assessment and the standard of education.\n",
      "\n",
      "The article also highlights the issues with the current examination system, including the focus on memory-based testing and the lack of higher-order thinking skills assessment. There are instances of errors in question papers and indiscriminate evaluation of answer scripts. This inconsistency and inadequacy of the examination system raise concerns about the employability of graduates.\n",
      "\n",
      "To improve the assessment quality, the article suggests transparent oversight and greater involvement of professional bodies in curriculum design and teaching. The article also emphasizes the need for simultaneous curriculum change and examination reform. Technology can play a crucial role in enhancing credibility by standardizing the setting of question papers and evaluation processes.\n",
      "\n",
      "The article proposes steps such as the codification of negligence, fraud, and quality issues, external audits of assessment systems, and the release of audit reports to ensure transparency and reliability. Overall, the article emphasizes the importance of a credible examination system in improving educational standards.\n"
     ]
    }
   ],
   "source": [
    "print(op.content)"
   ]
  },
  {
   "cell_type": "markdown",
   "id": "fce84431-1482-4398-bece-7925a1de4866",
   "metadata": {},
   "source": [
    "## Append the Output message as AI Message"
   ]
  },
  {
   "cell_type": "code",
   "execution_count": 22,
   "id": "0deff955-308a-45c3-91f4-aa35a9e5d4b2",
   "metadata": {},
   "outputs": [],
   "source": [
    "messages.append(AIMessage(content=op.content))"
   ]
  },
  {
   "cell_type": "code",
   "execution_count": 23,
   "id": "d36cd30d-a3b7-4622-9e15-c19ffd8dae9e",
   "metadata": {},
   "outputs": [
    {
     "data": {
      "text/plain": [
       "[SystemMessage(content=\"You're a Professional PDF content explainer\"),\n",
       " HumanMessage(content='Based on the below article,summarize it in 200 words \\nThe need to exam ine the exam ination system\\nReforming the examination system to ensure its credibility is a key way\\nto improve educational standards\\nEvery examination season, the media reports scandals that engulf some universities\\nor even school boards. The credibility of the examination system is linked to the\\nstandard of the certi\\x00cates that the examination/school boards issue. The lack of\\ncredibility of the examination system in educational institutions a\\x00ects educational\\nstandards because learning is conditioned by the proposed examination system.\\nTeaching and learning should prepare a student to face any type of examination. On\\nthe contrary, if the examination pattern is known, say by testing mostly memory,\\nthen teaching will ensure that students only prepare for rote memory. This is theR. Srinivasan\\nis Member, State Planning Commission, Government of\\nTamil Nadu\\ngeneral pattern. Further, in\\x00ation of marks and achieving a very high pass\\npercentage are the key objectives of the education administration. Consequently, the\\ntalent search cost for employers rises. A credible examination system is one of the\\nkey ways to improve the standard of education.\\nDecentralised system\\nWith more than 1,100 universities, 50,000 a\\x00liated colleges including 700\\nautonomous colleges and a total enrolment of 40.15 million students, India has\\nnumerous higher education examination systems with diversi\\x00ed modes of\\nassessment. There are also 60 school boards for secondary and higher secondary\\nlevels of school education, certifying more than 15 million students every year.\\nSecrecy and standardisation are considered to be the hallmarks of good examination\\nboards. Secrecy without proper checks and balances and audits leads to scandals.\\nStandardisation through uniformity in examination kills experimentation in\\nassessment and curriculum. Rather, the credibility of assessment and standard of\\neducation can be ensured only through transparency in teaching and assessment.\\nIn educational institutions, the summative examination is to test and certify a\\nstudent’s learning. Its validity over time and its comparability across institutions are\\nmeaningless today. This inconsistency of the examination system is cause for\\nconcern.\\nAn examination is supposed to have tested certain scholastic abilities, from memory\\nto application and creation of knowledge and critical thinking. Often, there are\\ncomplaints that the examination boards test only memory. So, teachers in turn coach\\nstudents to memorise answers and score marks rather than teach them higher order\\nthinking.\\nThere are many instances where we come across question papers that have grave\\n\\x00aws such as language errors, errors in conceptualisation, irrelevant questions and\\nquestions that do not test higher order learning. The evaluation of answer scripts is\\nindiscriminate, and the grades do not re\\x00ect the di\\x00erences in students’ learning\\nachievements. The employability of a graduate depends on higher order learning,\\nwhile examination boards do not certify students on those skills.. Our institutional\\nexaminations fail in this.\\nEmployers disregard institutional certi\\x00cation and have their own rigorous\\nassessment of a candidate’s academic achievements and suitability for employment.\\nThis in turn has created a coaching market for competitive examinations and skilling.\\nAssessment quality\\nThe academic side of courses should lay the foundation for calibrating a good\\nassessment system. All regulatory institutions in India have an emphasis on\\noutcome-based learning in institutions. There are elaborate advisories on curriculum\\ndesign, pedagogy, and examination systems from all the regulatory boards. In the\\nabsence of regular and e\\x00ective oversight, these advisories are hardly followed by\\neducational institutions. The syllabi of every graduate/diploma programme will tickmost of the boxes such as course objectives, expected outcomes, and even\\nspecifying the \\x00ner details of skills to be imparted. But a careful reading of the syllabi\\nwill expose the inconsistency and inadequacies in them. Actual classroom teaching\\nwill not meet the requirements of imparting higher order thinking and skills.\\nTherefore, a transparent oversight model and greater involvement of professional\\nbodies in curriculum design and teaching should help in establishing a proper\\nassessment system. We cannot wait for curriculum change to get over to e\\x00ect\\nexamination reforms. Rather, both processes should happen simultaneously.\\nAnother important problem of assessment is the secrecy involved in the whole\\nexamination process, from question paper setting to evaluation of answer scripts\\nand mark sheet preparation. Bad apples among teachers have the cover of\\ncon\\x00dentiality for their mediocre work. Con\\x00dentiality is also a cause for scandals in\\nexaminations. A larger examination system is designed to ensure a uniform standard\\nof assessments. But the problem with larger systems is that they are prone to\\n‘malfunctioning’ and facilitate malpractices that make a mockery of uniformity and\\ncon\\x00dentiality.\\nRegulatory bodies encourage colleges to go in for academic autonomy and certify\\ntheir students based on their own examinations, but the degrees/diplomas that are\\nconferred are on a par with all others by the a\\x00liating university. Autonomy\\nregulations give little oversight authority for the a\\x00liating university on the\\nautonomous college examination system. The higher education regulator truly\\nbelieves in decentralisation through autonomous institutions without oversight.\\nStandardisation of examinations is a farce.\\nIn a decentralised education system, con\\x00dentiality and standardisation of the\\nexamination system matter little, but ensuring a minimum standard is essential.\\nTransparency and proper oversight take lead roles in the examination systems to\\nensure this.\\nSteps to take\\nIf minimum standards of learning outcomes are speci\\x00ed, there are numerous ways\\nto achieve them. Academics in every branch of knowledge write on curriculum\\ndesign, pedagogy and assessment systems. Research in teaching of subjects in both\\nschools and colleges is vibrant. There are subject speci\\x00c and skill speci\\x00c\\nassessment processes. Continuous assessment through the course leaves the entire\\nassessment process in the hands of the teacher. Though this system is often riddled\\nwith subjective and lenient assessment, proper documentation and real time\\noversight with participative process of students’ assessment of teachers should make\\nit better. Summative assessment and evaluation should also be made transparent,\\nwith checks and balances.\\nThe use of technology in assessment enhances credibility. The setting of question\\npapers can be standardised in terms of academic content, and evaluation can be\\nstandardised with checks and balances. The market provides a variety of softwaresolutions to every aspect of assessment, for both centralised and distributed systems\\nof assessments.\\nAll sorts of negligence, fraud and academic inadequacies and other quality issues\\nshould be codi\\x00ed, and corrective measures/punishment also should be linked to\\nsuch codes. Transparency in accessing the evaluation process by students and\\nmeasures to address their grievances should be in place.\\nAn external audit of assessment systems in universities and school boards is\\nessential. Such audit reports should cover all the processes based on established\\nprinciples and benchmarks set by educationists to ensure reliability and consistency\\nof examination systems. Grading examination boards in terms of transparency,\\nreliability and consistency should be a part of audit reports. Such audit reports\\nshould be released soon after the completion of every major cycle of examinations,\\nsay as half-yearly reports.\\nWe expect university degrees and school board certi\\x00cates to re\\x00ect the learning\\nachievements of students, and examination boards should assess students\\ncomprehensively, in a challenging way. Grades should distinguish students by their\\nacademic attainments. While the con\\x00dentiality of the process and consistency in\\ngrading with uniform standards are desired features of examination systems, the\\nreal features are transparency in process and credibility by adhering to at least\\nminimum acceptable standards.'),\n",
       " AIMessage(content='The article discusses the importance of reforming the examination system in order to improve educational standards. The credibility of the examination system is directly linked to the quality of the certificates issued by examination boards. The lack of credibility affects educational standards as learning is often tailored to fit the examination pattern. This leads to a focus on rote memorization rather than higher-order thinking skills.\\n\\nIndia has a decentralized examination system with numerous universities, colleges, and school boards. However, secrecy and standardization are considered to be the hallmarks of good examination boards. Secrecy without proper checks and balances can lead to scandals, while standardization can hinder experimentation in assessment and curriculum. Transparency in teaching and assessment is necessary to ensure the credibility of assessment and the standard of education.\\n\\nThe article also highlights the issues with the current examination system, including the focus on memory-based testing and the lack of higher-order thinking skills assessment. There are instances of errors in question papers and indiscriminate evaluation of answer scripts. This inconsistency and inadequacy of the examination system raise concerns about the employability of graduates.\\n\\nTo improve the assessment quality, the article suggests transparent oversight and greater involvement of professional bodies in curriculum design and teaching. The article also emphasizes the need for simultaneous curriculum change and examination reform. Technology can play a crucial role in enhancing credibility by standardizing the setting of question papers and evaluation processes.\\n\\nThe article proposes steps such as the codification of negligence, fraud, and quality issues, external audits of assessment systems, and the release of audit reports to ensure transparency and reliability. Overall, the article emphasizes the importance of a credible examination system in improving educational standards.')]"
      ]
     },
     "execution_count": 23,
     "metadata": {},
     "output_type": "execute_result"
    }
   ],
   "source": [
    "messages"
   ]
  },
  {
   "cell_type": "markdown",
   "id": "88461704-0663-4241-b8ad-3e33ecffa418",
   "metadata": {},
   "source": [
    "## Add a follow up Human Message to AI Message"
   ]
  },
  {
   "cell_type": "code",
   "execution_count": 24,
   "id": "83029ac8-ddb6-47b8-b170-d4a4d2d6ab9c",
   "metadata": {},
   "outputs": [],
   "source": [
    "messages.append(HumanMessage(content=\"How students were effecting from this kind of inflation of marks\"))"
   ]
  },
  {
   "cell_type": "code",
   "execution_count": 25,
   "id": "e4a501b8-d25a-4f52-9147-5f2b33541c8b",
   "metadata": {},
   "outputs": [
    {
     "data": {
      "text/plain": [
       "[SystemMessage(content=\"You're a Professional PDF content explainer\"),\n",
       " HumanMessage(content='Based on the below article,summarize it in 200 words \\nThe need to exam ine the exam ination system\\nReforming the examination system to ensure its credibility is a key way\\nto improve educational standards\\nEvery examination season, the media reports scandals that engulf some universities\\nor even school boards. The credibility of the examination system is linked to the\\nstandard of the certi\\x00cates that the examination/school boards issue. The lack of\\ncredibility of the examination system in educational institutions a\\x00ects educational\\nstandards because learning is conditioned by the proposed examination system.\\nTeaching and learning should prepare a student to face any type of examination. On\\nthe contrary, if the examination pattern is known, say by testing mostly memory,\\nthen teaching will ensure that students only prepare for rote memory. This is theR. Srinivasan\\nis Member, State Planning Commission, Government of\\nTamil Nadu\\ngeneral pattern. Further, in\\x00ation of marks and achieving a very high pass\\npercentage are the key objectives of the education administration. Consequently, the\\ntalent search cost for employers rises. A credible examination system is one of the\\nkey ways to improve the standard of education.\\nDecentralised system\\nWith more than 1,100 universities, 50,000 a\\x00liated colleges including 700\\nautonomous colleges and a total enrolment of 40.15 million students, India has\\nnumerous higher education examination systems with diversi\\x00ed modes of\\nassessment. There are also 60 school boards for secondary and higher secondary\\nlevels of school education, certifying more than 15 million students every year.\\nSecrecy and standardisation are considered to be the hallmarks of good examination\\nboards. Secrecy without proper checks and balances and audits leads to scandals.\\nStandardisation through uniformity in examination kills experimentation in\\nassessment and curriculum. Rather, the credibility of assessment and standard of\\neducation can be ensured only through transparency in teaching and assessment.\\nIn educational institutions, the summative examination is to test and certify a\\nstudent’s learning. Its validity over time and its comparability across institutions are\\nmeaningless today. This inconsistency of the examination system is cause for\\nconcern.\\nAn examination is supposed to have tested certain scholastic abilities, from memory\\nto application and creation of knowledge and critical thinking. Often, there are\\ncomplaints that the examination boards test only memory. So, teachers in turn coach\\nstudents to memorise answers and score marks rather than teach them higher order\\nthinking.\\nThere are many instances where we come across question papers that have grave\\n\\x00aws such as language errors, errors in conceptualisation, irrelevant questions and\\nquestions that do not test higher order learning. The evaluation of answer scripts is\\nindiscriminate, and the grades do not re\\x00ect the di\\x00erences in students’ learning\\nachievements. The employability of a graduate depends on higher order learning,\\nwhile examination boards do not certify students on those skills.. Our institutional\\nexaminations fail in this.\\nEmployers disregard institutional certi\\x00cation and have their own rigorous\\nassessment of a candidate’s academic achievements and suitability for employment.\\nThis in turn has created a coaching market for competitive examinations and skilling.\\nAssessment quality\\nThe academic side of courses should lay the foundation for calibrating a good\\nassessment system. All regulatory institutions in India have an emphasis on\\noutcome-based learning in institutions. There are elaborate advisories on curriculum\\ndesign, pedagogy, and examination systems from all the regulatory boards. In the\\nabsence of regular and e\\x00ective oversight, these advisories are hardly followed by\\neducational institutions. The syllabi of every graduate/diploma programme will tickmost of the boxes such as course objectives, expected outcomes, and even\\nspecifying the \\x00ner details of skills to be imparted. But a careful reading of the syllabi\\nwill expose the inconsistency and inadequacies in them. Actual classroom teaching\\nwill not meet the requirements of imparting higher order thinking and skills.\\nTherefore, a transparent oversight model and greater involvement of professional\\nbodies in curriculum design and teaching should help in establishing a proper\\nassessment system. We cannot wait for curriculum change to get over to e\\x00ect\\nexamination reforms. Rather, both processes should happen simultaneously.\\nAnother important problem of assessment is the secrecy involved in the whole\\nexamination process, from question paper setting to evaluation of answer scripts\\nand mark sheet preparation. Bad apples among teachers have the cover of\\ncon\\x00dentiality for their mediocre work. Con\\x00dentiality is also a cause for scandals in\\nexaminations. A larger examination system is designed to ensure a uniform standard\\nof assessments. But the problem with larger systems is that they are prone to\\n‘malfunctioning’ and facilitate malpractices that make a mockery of uniformity and\\ncon\\x00dentiality.\\nRegulatory bodies encourage colleges to go in for academic autonomy and certify\\ntheir students based on their own examinations, but the degrees/diplomas that are\\nconferred are on a par with all others by the a\\x00liating university. Autonomy\\nregulations give little oversight authority for the a\\x00liating university on the\\nautonomous college examination system. The higher education regulator truly\\nbelieves in decentralisation through autonomous institutions without oversight.\\nStandardisation of examinations is a farce.\\nIn a decentralised education system, con\\x00dentiality and standardisation of the\\nexamination system matter little, but ensuring a minimum standard is essential.\\nTransparency and proper oversight take lead roles in the examination systems to\\nensure this.\\nSteps to take\\nIf minimum standards of learning outcomes are speci\\x00ed, there are numerous ways\\nto achieve them. Academics in every branch of knowledge write on curriculum\\ndesign, pedagogy and assessment systems. Research in teaching of subjects in both\\nschools and colleges is vibrant. There are subject speci\\x00c and skill speci\\x00c\\nassessment processes. Continuous assessment through the course leaves the entire\\nassessment process in the hands of the teacher. Though this system is often riddled\\nwith subjective and lenient assessment, proper documentation and real time\\noversight with participative process of students’ assessment of teachers should make\\nit better. Summative assessment and evaluation should also be made transparent,\\nwith checks and balances.\\nThe use of technology in assessment enhances credibility. The setting of question\\npapers can be standardised in terms of academic content, and evaluation can be\\nstandardised with checks and balances. The market provides a variety of softwaresolutions to every aspect of assessment, for both centralised and distributed systems\\nof assessments.\\nAll sorts of negligence, fraud and academic inadequacies and other quality issues\\nshould be codi\\x00ed, and corrective measures/punishment also should be linked to\\nsuch codes. Transparency in accessing the evaluation process by students and\\nmeasures to address their grievances should be in place.\\nAn external audit of assessment systems in universities and school boards is\\nessential. Such audit reports should cover all the processes based on established\\nprinciples and benchmarks set by educationists to ensure reliability and consistency\\nof examination systems. Grading examination boards in terms of transparency,\\nreliability and consistency should be a part of audit reports. Such audit reports\\nshould be released soon after the completion of every major cycle of examinations,\\nsay as half-yearly reports.\\nWe expect university degrees and school board certi\\x00cates to re\\x00ect the learning\\nachievements of students, and examination boards should assess students\\ncomprehensively, in a challenging way. Grades should distinguish students by their\\nacademic attainments. While the con\\x00dentiality of the process and consistency in\\ngrading with uniform standards are desired features of examination systems, the\\nreal features are transparency in process and credibility by adhering to at least\\nminimum acceptable standards.'),\n",
       " AIMessage(content='The article discusses the importance of reforming the examination system in order to improve educational standards. The credibility of the examination system is directly linked to the quality of the certificates issued by examination boards. The lack of credibility affects educational standards as learning is often tailored to fit the examination pattern. This leads to a focus on rote memorization rather than higher-order thinking skills.\\n\\nIndia has a decentralized examination system with numerous universities, colleges, and school boards. However, secrecy and standardization are considered to be the hallmarks of good examination boards. Secrecy without proper checks and balances can lead to scandals, while standardization can hinder experimentation in assessment and curriculum. Transparency in teaching and assessment is necessary to ensure the credibility of assessment and the standard of education.\\n\\nThe article also highlights the issues with the current examination system, including the focus on memory-based testing and the lack of higher-order thinking skills assessment. There are instances of errors in question papers and indiscriminate evaluation of answer scripts. This inconsistency and inadequacy of the examination system raise concerns about the employability of graduates.\\n\\nTo improve the assessment quality, the article suggests transparent oversight and greater involvement of professional bodies in curriculum design and teaching. The article also emphasizes the need for simultaneous curriculum change and examination reform. Technology can play a crucial role in enhancing credibility by standardizing the setting of question papers and evaluation processes.\\n\\nThe article proposes steps such as the codification of negligence, fraud, and quality issues, external audits of assessment systems, and the release of audit reports to ensure transparency and reliability. Overall, the article emphasizes the importance of a credible examination system in improving educational standards.'),\n",
       " HumanMessage(content='How students were effecting from this kind of inflation of marks')]"
      ]
     },
     "execution_count": 25,
     "metadata": {},
     "output_type": "execute_result"
    }
   ],
   "source": [
    "messages"
   ]
  },
  {
   "cell_type": "markdown",
   "id": "8df96eb3-5c8f-4805-82eb-8b15b0c11aa9",
   "metadata": {},
   "source": [
    "## Repeat the above steps"
   ]
  },
  {
   "cell_type": "code",
   "execution_count": 26,
   "id": "6e1f1d0c-642d-47a9-b819-e7afe176644e",
   "metadata": {},
   "outputs": [],
   "source": [
    "op=chat(messages)"
   ]
  },
  {
   "cell_type": "code",
   "execution_count": 27,
   "id": "12f28063-3351-4aec-9c30-ca72f908d55e",
   "metadata": {},
   "outputs": [
    {
     "name": "stdout",
     "output_type": "stream",
     "text": [
      "The inflation of marks in the examination system can have negative effects on students. Firstly, it reduces the credibility of their academic achievements. When marks are inflated and a very high pass percentage is achieved, it becomes difficult for employers and higher education institutions to differentiate between students based on their actual abilities and knowledge. This can lead to a lack of trust in the qualifications of students and make it harder for them to secure employment or gain admission to higher education institutions.\n",
      "\n",
      "Furthermore, the inflation of marks can create a false sense of achievement among students. When students are consistently awarded high marks without truly demonstrating their understanding and skills, they may develop a complacent attitude towards learning. They may rely on memorization techniques rather than actively engaging in critical thinking and problem-solving. This hinders their overall development and ability to apply their knowledge in practical settings.\n",
      "\n",
      "Moreover, the inflation of marks can also lead to a lack of motivation among students. When everyone is awarded high marks, there is no real sense of competition or striving for excellence. Students may lose the drive to work hard and improve themselves academically. They may become disengaged and disinterested in their studies, resulting in a decline in their overall educational outcomes.\n",
      "\n",
      "Inflated marks also fail to provide an accurate representation of a student's abilities and knowledge. When students are not challenged and their true capabilities are not assessed, it becomes difficult for them to identify their strengths and weaknesses. This can hinder their personal and academic growth as they may not receive the necessary feedback and guidance to improve in areas where they are lacking.\n",
      "\n",
      "Overall, the inflation of marks in the examination system can have detrimental effects on students, including reduced credibility of their academic achievements, a lack of motivation, complacency in learning, and an inaccurate assessment of their abilities. It is important to address this issue and ensure that examination systems provide a fair and reliable evaluation of students' knowledge and skills.\n"
     ]
    }
   ],
   "source": [
    "print(op.content)"
   ]
  },
  {
   "cell_type": "code",
   "execution_count": 28,
   "id": "49c818ae-3d5e-429c-a8a0-5b851fbd5a65",
   "metadata": {},
   "outputs": [],
   "source": [
    "messages.append(AIMessage(content=op.content))"
   ]
  },
  {
   "cell_type": "code",
   "execution_count": 29,
   "id": "2126b493-5737-4ea4-b6c4-b5063051d9c3",
   "metadata": {},
   "outputs": [],
   "source": [
    "messages.append(HumanMessage(content=\"How can india overcome from this issue\"))"
   ]
  },
  {
   "cell_type": "code",
   "execution_count": 30,
   "id": "16bfa701-0c62-438b-9c46-8450ce82aba0",
   "metadata": {},
   "outputs": [],
   "source": [
    "op=chat(messages)"
   ]
  },
  {
   "cell_type": "code",
   "execution_count": 31,
   "id": "6944bfc1-6354-4ac7-9583-93ce46e98764",
   "metadata": {},
   "outputs": [
    {
     "name": "stdout",
     "output_type": "stream",
     "text": [
      "To overcome the issue of inflation of marks in India's examination system, several steps can be taken:\n",
      "\n",
      "1. Focus on quality education: Emphasize the importance of quality education rather than just achieving high marks. Encourage critical thinking, problem-solving, and practical application of knowledge in the curriculum.\n",
      "\n",
      "2. Strengthen assessment methods: Move away from memory-based exams and adopt assessment methods that evaluate higher-order thinking skills. This can include project-based assessments, open-ended questions, and practical examinations.\n",
      "\n",
      "3. Enhance teacher training: Provide comprehensive training to teachers on effective teaching methods, assessment techniques, and the importance of maintaining academic standards. This will ensure that teachers are equipped to guide students towards holistic learning rather than focusing solely on exam preparation.\n",
      "\n",
      "4. Promote transparency and accountability: Establish mechanisms for transparent oversight of the examination system. Conduct external audits of assessment processes to ensure reliability and consistency. Release audit reports to create accountability and monitor the performance of examination boards.\n",
      "\n",
      "5. Encourage research and innovation: Encourage institutions and educators to conduct research on curriculum design, pedagogy, and assessment systems. Foster an environment that promotes innovation in teaching and assessment practices.\n",
      "\n",
      "6. Involve professional bodies: Engage professional bodies and subject experts in the design and evaluation of examinations. Their expertise can help ensure that assessments accurately reflect the knowledge and skills required in different fields.\n",
      "\n",
      "7. Utilize technology: Leverage technology to enhance the credibility and standardization of assessments. Use software solutions to standardize question paper setting and evaluation processes. Explore the use of online assessments to ensure fairness and reduce the scope for malpractices.\n",
      "\n",
      "8. Promote a culture of learning: Encourage a shift in mindset among students, parents, and educators to prioritize learning outcomes and personal growth rather than solely focusing on marks. Foster a culture that values curiosity, critical thinking, and continuous learning.\n",
      "\n",
      "9. Strengthen regulatory bodies: Provide regulatory bodies with adequate authority and resources to effectively oversee the examination system. Ensure that they have the ability to enforce standards and take action against malpractices.\n",
      "\n",
      "10. Collaboration and knowledge-sharing: Foster collaboration among educational institutions, policymakers, and stakeholders to share best practices and learn from successful initiatives. This collective effort can lead to meaningful reforms in the examination system.\n",
      "\n",
      "Implementing these measures can help India overcome the issue of inflation of marks and create an examination system that is fair, credible, and focused on holistic education.\n"
     ]
    }
   ],
   "source": [
    "print(op.content)"
   ]
  },
  {
   "cell_type": "code",
   "execution_count": 32,
   "id": "fcee2e84-8dce-4c40-9a21-c2aae372dda2",
   "metadata": {},
   "outputs": [],
   "source": [
    "messages.append(AIMessage(content=op.content))"
   ]
  },
  {
   "cell_type": "code",
   "execution_count": 33,
   "id": "198db833-8302-47ac-84db-c8e58195dbc4",
   "metadata": {},
   "outputs": [
    {
     "data": {
      "text/plain": [
       "[SystemMessage(content=\"You're a Professional PDF content explainer\"),\n",
       " HumanMessage(content='Based on the below article,summarize it in 200 words \\nThe need to exam ine the exam ination system\\nReforming the examination system to ensure its credibility is a key way\\nto improve educational standards\\nEvery examination season, the media reports scandals that engulf some universities\\nor even school boards. The credibility of the examination system is linked to the\\nstandard of the certi\\x00cates that the examination/school boards issue. The lack of\\ncredibility of the examination system in educational institutions a\\x00ects educational\\nstandards because learning is conditioned by the proposed examination system.\\nTeaching and learning should prepare a student to face any type of examination. On\\nthe contrary, if the examination pattern is known, say by testing mostly memory,\\nthen teaching will ensure that students only prepare for rote memory. This is theR. Srinivasan\\nis Member, State Planning Commission, Government of\\nTamil Nadu\\ngeneral pattern. Further, in\\x00ation of marks and achieving a very high pass\\npercentage are the key objectives of the education administration. Consequently, the\\ntalent search cost for employers rises. A credible examination system is one of the\\nkey ways to improve the standard of education.\\nDecentralised system\\nWith more than 1,100 universities, 50,000 a\\x00liated colleges including 700\\nautonomous colleges and a total enrolment of 40.15 million students, India has\\nnumerous higher education examination systems with diversi\\x00ed modes of\\nassessment. There are also 60 school boards for secondary and higher secondary\\nlevels of school education, certifying more than 15 million students every year.\\nSecrecy and standardisation are considered to be the hallmarks of good examination\\nboards. Secrecy without proper checks and balances and audits leads to scandals.\\nStandardisation through uniformity in examination kills experimentation in\\nassessment and curriculum. Rather, the credibility of assessment and standard of\\neducation can be ensured only through transparency in teaching and assessment.\\nIn educational institutions, the summative examination is to test and certify a\\nstudent’s learning. Its validity over time and its comparability across institutions are\\nmeaningless today. This inconsistency of the examination system is cause for\\nconcern.\\nAn examination is supposed to have tested certain scholastic abilities, from memory\\nto application and creation of knowledge and critical thinking. Often, there are\\ncomplaints that the examination boards test only memory. So, teachers in turn coach\\nstudents to memorise answers and score marks rather than teach them higher order\\nthinking.\\nThere are many instances where we come across question papers that have grave\\n\\x00aws such as language errors, errors in conceptualisation, irrelevant questions and\\nquestions that do not test higher order learning. The evaluation of answer scripts is\\nindiscriminate, and the grades do not re\\x00ect the di\\x00erences in students’ learning\\nachievements. The employability of a graduate depends on higher order learning,\\nwhile examination boards do not certify students on those skills.. Our institutional\\nexaminations fail in this.\\nEmployers disregard institutional certi\\x00cation and have their own rigorous\\nassessment of a candidate’s academic achievements and suitability for employment.\\nThis in turn has created a coaching market for competitive examinations and skilling.\\nAssessment quality\\nThe academic side of courses should lay the foundation for calibrating a good\\nassessment system. All regulatory institutions in India have an emphasis on\\noutcome-based learning in institutions. There are elaborate advisories on curriculum\\ndesign, pedagogy, and examination systems from all the regulatory boards. In the\\nabsence of regular and e\\x00ective oversight, these advisories are hardly followed by\\neducational institutions. The syllabi of every graduate/diploma programme will tickmost of the boxes such as course objectives, expected outcomes, and even\\nspecifying the \\x00ner details of skills to be imparted. But a careful reading of the syllabi\\nwill expose the inconsistency and inadequacies in them. Actual classroom teaching\\nwill not meet the requirements of imparting higher order thinking and skills.\\nTherefore, a transparent oversight model and greater involvement of professional\\nbodies in curriculum design and teaching should help in establishing a proper\\nassessment system. We cannot wait for curriculum change to get over to e\\x00ect\\nexamination reforms. Rather, both processes should happen simultaneously.\\nAnother important problem of assessment is the secrecy involved in the whole\\nexamination process, from question paper setting to evaluation of answer scripts\\nand mark sheet preparation. Bad apples among teachers have the cover of\\ncon\\x00dentiality for their mediocre work. Con\\x00dentiality is also a cause for scandals in\\nexaminations. A larger examination system is designed to ensure a uniform standard\\nof assessments. But the problem with larger systems is that they are prone to\\n‘malfunctioning’ and facilitate malpractices that make a mockery of uniformity and\\ncon\\x00dentiality.\\nRegulatory bodies encourage colleges to go in for academic autonomy and certify\\ntheir students based on their own examinations, but the degrees/diplomas that are\\nconferred are on a par with all others by the a\\x00liating university. Autonomy\\nregulations give little oversight authority for the a\\x00liating university on the\\nautonomous college examination system. The higher education regulator truly\\nbelieves in decentralisation through autonomous institutions without oversight.\\nStandardisation of examinations is a farce.\\nIn a decentralised education system, con\\x00dentiality and standardisation of the\\nexamination system matter little, but ensuring a minimum standard is essential.\\nTransparency and proper oversight take lead roles in the examination systems to\\nensure this.\\nSteps to take\\nIf minimum standards of learning outcomes are speci\\x00ed, there are numerous ways\\nto achieve them. Academics in every branch of knowledge write on curriculum\\ndesign, pedagogy and assessment systems. Research in teaching of subjects in both\\nschools and colleges is vibrant. There are subject speci\\x00c and skill speci\\x00c\\nassessment processes. Continuous assessment through the course leaves the entire\\nassessment process in the hands of the teacher. Though this system is often riddled\\nwith subjective and lenient assessment, proper documentation and real time\\noversight with participative process of students’ assessment of teachers should make\\nit better. Summative assessment and evaluation should also be made transparent,\\nwith checks and balances.\\nThe use of technology in assessment enhances credibility. The setting of question\\npapers can be standardised in terms of academic content, and evaluation can be\\nstandardised with checks and balances. The market provides a variety of softwaresolutions to every aspect of assessment, for both centralised and distributed systems\\nof assessments.\\nAll sorts of negligence, fraud and academic inadequacies and other quality issues\\nshould be codi\\x00ed, and corrective measures/punishment also should be linked to\\nsuch codes. Transparency in accessing the evaluation process by students and\\nmeasures to address their grievances should be in place.\\nAn external audit of assessment systems in universities and school boards is\\nessential. Such audit reports should cover all the processes based on established\\nprinciples and benchmarks set by educationists to ensure reliability and consistency\\nof examination systems. Grading examination boards in terms of transparency,\\nreliability and consistency should be a part of audit reports. Such audit reports\\nshould be released soon after the completion of every major cycle of examinations,\\nsay as half-yearly reports.\\nWe expect university degrees and school board certi\\x00cates to re\\x00ect the learning\\nachievements of students, and examination boards should assess students\\ncomprehensively, in a challenging way. Grades should distinguish students by their\\nacademic attainments. While the con\\x00dentiality of the process and consistency in\\ngrading with uniform standards are desired features of examination systems, the\\nreal features are transparency in process and credibility by adhering to at least\\nminimum acceptable standards.'),\n",
       " AIMessage(content='The article discusses the importance of reforming the examination system in order to improve educational standards. The credibility of the examination system is directly linked to the quality of the certificates issued by examination boards. The lack of credibility affects educational standards as learning is often tailored to fit the examination pattern. This leads to a focus on rote memorization rather than higher-order thinking skills.\\n\\nIndia has a decentralized examination system with numerous universities, colleges, and school boards. However, secrecy and standardization are considered to be the hallmarks of good examination boards. Secrecy without proper checks and balances can lead to scandals, while standardization can hinder experimentation in assessment and curriculum. Transparency in teaching and assessment is necessary to ensure the credibility of assessment and the standard of education.\\n\\nThe article also highlights the issues with the current examination system, including the focus on memory-based testing and the lack of higher-order thinking skills assessment. There are instances of errors in question papers and indiscriminate evaluation of answer scripts. This inconsistency and inadequacy of the examination system raise concerns about the employability of graduates.\\n\\nTo improve the assessment quality, the article suggests transparent oversight and greater involvement of professional bodies in curriculum design and teaching. The article also emphasizes the need for simultaneous curriculum change and examination reform. Technology can play a crucial role in enhancing credibility by standardizing the setting of question papers and evaluation processes.\\n\\nThe article proposes steps such as the codification of negligence, fraud, and quality issues, external audits of assessment systems, and the release of audit reports to ensure transparency and reliability. Overall, the article emphasizes the importance of a credible examination system in improving educational standards.'),\n",
       " HumanMessage(content='How students were effecting from this kind of inflation of marks'),\n",
       " AIMessage(content=\"The inflation of marks in the examination system can have negative effects on students. Firstly, it reduces the credibility of their academic achievements. When marks are inflated and a very high pass percentage is achieved, it becomes difficult for employers and higher education institutions to differentiate between students based on their actual abilities and knowledge. This can lead to a lack of trust in the qualifications of students and make it harder for them to secure employment or gain admission to higher education institutions.\\n\\nFurthermore, the inflation of marks can create a false sense of achievement among students. When students are consistently awarded high marks without truly demonstrating their understanding and skills, they may develop a complacent attitude towards learning. They may rely on memorization techniques rather than actively engaging in critical thinking and problem-solving. This hinders their overall development and ability to apply their knowledge in practical settings.\\n\\nMoreover, the inflation of marks can also lead to a lack of motivation among students. When everyone is awarded high marks, there is no real sense of competition or striving for excellence. Students may lose the drive to work hard and improve themselves academically. They may become disengaged and disinterested in their studies, resulting in a decline in their overall educational outcomes.\\n\\nInflated marks also fail to provide an accurate representation of a student's abilities and knowledge. When students are not challenged and their true capabilities are not assessed, it becomes difficult for them to identify their strengths and weaknesses. This can hinder their personal and academic growth as they may not receive the necessary feedback and guidance to improve in areas where they are lacking.\\n\\nOverall, the inflation of marks in the examination system can have detrimental effects on students, including reduced credibility of their academic achievements, a lack of motivation, complacency in learning, and an inaccurate assessment of their abilities. It is important to address this issue and ensure that examination systems provide a fair and reliable evaluation of students' knowledge and skills.\"),\n",
       " HumanMessage(content='How can india overcome from this issue'),\n",
       " AIMessage(content=\"To overcome the issue of inflation of marks in India's examination system, several steps can be taken:\\n\\n1. Focus on quality education: Emphasize the importance of quality education rather than just achieving high marks. Encourage critical thinking, problem-solving, and practical application of knowledge in the curriculum.\\n\\n2. Strengthen assessment methods: Move away from memory-based exams and adopt assessment methods that evaluate higher-order thinking skills. This can include project-based assessments, open-ended questions, and practical examinations.\\n\\n3. Enhance teacher training: Provide comprehensive training to teachers on effective teaching methods, assessment techniques, and the importance of maintaining academic standards. This will ensure that teachers are equipped to guide students towards holistic learning rather than focusing solely on exam preparation.\\n\\n4. Promote transparency and accountability: Establish mechanisms for transparent oversight of the examination system. Conduct external audits of assessment processes to ensure reliability and consistency. Release audit reports to create accountability and monitor the performance of examination boards.\\n\\n5. Encourage research and innovation: Encourage institutions and educators to conduct research on curriculum design, pedagogy, and assessment systems. Foster an environment that promotes innovation in teaching and assessment practices.\\n\\n6. Involve professional bodies: Engage professional bodies and subject experts in the design and evaluation of examinations. Their expertise can help ensure that assessments accurately reflect the knowledge and skills required in different fields.\\n\\n7. Utilize technology: Leverage technology to enhance the credibility and standardization of assessments. Use software solutions to standardize question paper setting and evaluation processes. Explore the use of online assessments to ensure fairness and reduce the scope for malpractices.\\n\\n8. Promote a culture of learning: Encourage a shift in mindset among students, parents, and educators to prioritize learning outcomes and personal growth rather than solely focusing on marks. Foster a culture that values curiosity, critical thinking, and continuous learning.\\n\\n9. Strengthen regulatory bodies: Provide regulatory bodies with adequate authority and resources to effectively oversee the examination system. Ensure that they have the ability to enforce standards and take action against malpractices.\\n\\n10. Collaboration and knowledge-sharing: Foster collaboration among educational institutions, policymakers, and stakeholders to share best practices and learn from successful initiatives. This collective effort can lead to meaningful reforms in the examination system.\\n\\nImplementing these measures can help India overcome the issue of inflation of marks and create an examination system that is fair, credible, and focused on holistic education.\")]"
      ]
     },
     "execution_count": 33,
     "metadata": {},
     "output_type": "execute_result"
    }
   ],
   "source": [
    "messages"
   ]
  }
 ],
 "metadata": {
  "kernelspec": {
   "display_name": "Python 3 (ipykernel)",
   "language": "python",
   "name": "python3"
  },
  "language_info": {
   "codemirror_mode": {
    "name": "ipython",
    "version": 3
   },
   "file_extension": ".py",
   "mimetype": "text/x-python",
   "name": "python",
   "nbconvert_exporter": "python",
   "pygments_lexer": "ipython3",
   "version": "3.10.8"
  }
 },
 "nbformat": 4,
 "nbformat_minor": 5
}
